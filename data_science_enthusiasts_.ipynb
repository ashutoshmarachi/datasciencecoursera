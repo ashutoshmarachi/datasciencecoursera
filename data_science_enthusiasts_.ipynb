{
  "nbformat": 4,
  "nbformat_minor": 0,
  "metadata": {
    "colab": {
      "provenance": [],
      "authorship_tag": "ABX9TyOd7quQPGPFNZDc2yNW06gI",
      "include_colab_link": true
    },
    "kernelspec": {
      "name": "python3",
      "display_name": "Python 3"
    },
    "language_info": {
      "name": "python"
    }
  },
  "cells": [
    {
      "cell_type": "markdown",
      "metadata": {
        "id": "view-in-github",
        "colab_type": "text"
      },
      "source": [
        "<a href=\"https://colab.research.google.com/github/ashutoshmarachi/datasciencecoursera/blob/main/data_science_enthusiasts_.ipynb\" target=\"_parent\"><img src=\"https://colab.research.google.com/assets/colab-badge.svg\" alt=\"Open In Colab\"/></a>"
      ]
    },
    {
      "cell_type": "code",
      "execution_count": null,
      "metadata": {
        "id": "ZWoQSVEgEQGk",
        "colab": {
          "base_uri": "https://localhost:8080/"
        },
        "outputId": "85f6904e-80a3-453b-da7d-19b52c4aca2e"
      },
      "outputs": [
        {
          "output_type": "stream",
          "name": "stdout",
          "text": [
            "llufarP si eman ym\n",
            "result as per condition: ym eman si llufarp\n"
          ]
        }
      ],
      "source": [
        "#reversing a string\n",
        "''' this can be done by simple string method  i dont know exactly how it is |n\n",
        "it is working but by practise i know it is the most simplest metho'''\n",
        "\n",
        "\n",
        "str= \"my name is Prafull\"\n",
        "str1= str[::-1]\n",
        "print(str1)\n",
        "'''but here we have to reverse the word of the string'''\n",
        "str= \"my name is prafull\"\n",
        "str1=str.split()\n",
        "list1=[]\n",
        "for i in str1:\n",
        "  list1.append(i[::-1])\n",
        "print(\"result as per condition:\",' '.join(list1))\n"
      ]
    },
    {
      "cell_type": "markdown",
      "source": [],
      "metadata": {
        "id": "m-9R_ylJ0qBC"
      }
    },
    {
      "cell_type": "markdown",
      "source": [],
      "metadata": {
        "id": "-wtzYDwm135b"
      }
    },
    {
      "cell_type": "markdown",
      "source": [],
      "metadata": {
        "id": "2BC-lv2u142V"
      }
    },
    {
      "cell_type": "code",
      "source": [
        "''' alternatively upper and lower cases in a string word'''\n",
        "word= 'aShutoshshDarma'\n",
        "end=''\n",
        "is_uper= True\n",
        "\n",
        "for i in word:\n",
        "  if is_uper:\n",
        "\n",
        "    end+=i.lower()\n",
        "  else:\n",
        "    end+=i.upper()\n",
        "  is_uper = not is_uper\n",
        "print(end)\n",
        "\n",
        "\n",
        "\n"
      ],
      "metadata": {
        "colab": {
          "base_uri": "https://localhost:8080/"
        },
        "id": "wtiA3mk_E2MA",
        "outputId": "0b3274cf-ba38-4b5e-e6ab-9bf9fe996e98"
      },
      "execution_count": null,
      "outputs": [
        {
          "output_type": "stream",
          "name": "stdout",
          "text": [
            "aShUtOsHsHdArMa\n"
          ]
        }
      ]
    },
    {
      "cell_type": "code",
      "source": [
        "'''input a5b3d2------output=aaaaabbbdd'''\n",
        "str=\"a5b3d2\"\n",
        "output=\"\"\n",
        "for i in str:\n",
        "  if i.isalpha():\n",
        "    res=i\n",
        "  else:\n",
        "    n=int(i)\n",
        "\n",
        "    output=output +(res*n)\n",
        "print(output)\n",
        "'''this is the most simplest aproach first we find the alphabests,when we find \\n\n",
        "number the we convert it i to integer'''\n",
        "\n"
      ],
      "metadata": {
        "colab": {
          "base_uri": "https://localhost:8080/"
        },
        "id": "6DUK-unFQfyA",
        "outputId": "4a6d1055-a154-4dc3-965f-c3025de584d9"
      },
      "execution_count": null,
      "outputs": [
        {
          "output_type": "stream",
          "name": "stdout",
          "text": [
            "5\n",
            "5\n",
            "3\n",
            "3\n",
            "2\n",
            "2\n",
            "aaaaabbbdd\n"
          ]
        }
      ]
    },
    {
      "cell_type": "code",
      "source": [
        "''' in this problem we have to sort the alphabets and numerical'''\n",
        "str='a1s23f4g5'\n",
        "alst=[]\n",
        "nlst=[]\n",
        "for char in str:\n",
        "  if char.isalpha:\n",
        "    alst.append(char)\n",
        "  else:\n",
        "    nlst.append(char)\n",
        "res= sorted(alst) +sorted(nlst)\n",
        "print(\"\".join(res) )"
      ],
      "metadata": {
        "colab": {
          "base_uri": "https://localhost:8080/"
        },
        "id": "m8u5hJHhVrea",
        "outputId": "e2747703-ff44-4402-bcf8-601e751c87ec"
      },
      "execution_count": null,
      "outputs": [
        {
          "output_type": "stream",
          "name": "stdout",
          "text": [
            "12345afgs\n"
          ]
        }
      ]
    },
    {
      "cell_type": "markdown",
      "source": [
        "first chacter of list word\n"
      ],
      "metadata": {
        "id": "fCUPsmEOXxVO"
      }
    },
    {
      "cell_type": "code",
      "source": [
        "sample=[\"Ashutosh\",'vaibhav','Aman',]\n",
        "lst1=[]\n",
        "for i in sample:\n",
        "  lst1.append(i[0])\n",
        "print(lst1)\n",
        "'''this code is working we are travesing in the list the help of i\\n\n",
        "and after that the object in the oist is string so we can move with the \\n\n",
        "help of index of the string\n",
        "\n"
      ],
      "metadata": {
        "id": "jyuGO2AqX1Ez"
      },
      "execution_count": null,
      "outputs": []
    },
    {
      "cell_type": "markdown",
      "source": [
        "Duplicate number in the integer list\n"
      ],
      "metadata": {
        "id": "M0gvvPhqZj7x"
      }
    },
    {
      "cell_type": "code",
      "source": [
        "lst1= [1,2,45,33,2,2,2,5,54,5,6,45,54,54]\n",
        "res=[]\n",
        "for i in range(len(lst1)):\n",
        "  for j in range(i+1,len(lst1)):\n",
        "    if lst1[i]== lst1[j] and lst1[i] and lst1[i] not in res:\n",
        "      res.append(lst1[i])\n",
        "print(res)\n",
        "\n",
        "\n",
        "''' not much input is given by me i just used alll the conditional statemnts given to me soorry\n"
      ],
      "metadata": {
        "colab": {
          "base_uri": "https://localhost:8080/"
        },
        "id": "bAuuwKLTZth1",
        "outputId": "826ce178-2beb-429b-c9be-4682bd167e67"
      },
      "execution_count": null,
      "outputs": [
        {
          "output_type": "stream",
          "name": "stdout",
          "text": [
            "[2, 45, 5, 54]\n"
          ]
        }
      ]
    },
    {
      "cell_type": "markdown",
      "source": [
        "removing duplicates\n"
      ],
      "metadata": {
        "id": "b8qUaVlDtBoZ"
      }
    },
    {
      "cell_type": "code",
      "source": [
        "lst1= [1,2,45,33,2,2,2,5,54,5,6,45,54,54]\n",
        "res=[]\n",
        "for i in range(len(lst1)):\n",
        "  if  lst1[i] not in res:\n",
        "    res.append(lst1[i])\n",
        "print(res)\n",
        "'''here i used a more basic approach using the control flow ,but the more easy code is the onbe given in the pdf\\n\n",
        "as it uses the property of set,in which duplicate elements are not repeated.'''\n"
      ],
      "metadata": {
        "colab": {
          "base_uri": "https://localhost:8080/"
        },
        "id": "Xeza2U8itD44",
        "outputId": "84f34ea3-5969-4a18-c57b-e9d98fc59f32"
      },
      "execution_count": null,
      "outputs": [
        {
          "output_type": "stream",
          "name": "stdout",
          "text": [
            "[1, 2, 45, 33, 5, 54, 6]\n"
          ]
        }
      ]
    },
    {
      "cell_type": "markdown",
      "source": [
        "# New section\n",
        "'''for pallindrome to check a string we can use [::-1] aproach if both equal then palindrome.'''"
      ],
      "metadata": {
        "id": "VE_RYUdEuwKT"
      }
    },
    {
      "cell_type": "code",
      "source": [
        "def palindrome(str):\n",
        "  if str == str[::-1]:\n",
        "    print(\"string is a palindrome\")\n",
        "  else:\n",
        "    print(\"string is not palindrome\")\n",
        "\n",
        "\n",
        "palindrome(\"madam\")\n",
        "\n",
        "''' i still get verry confuseed in the numbers,when we have to check if a no is palindrome or not'''"
      ],
      "metadata": {
        "colab": {
          "base_uri": "https://localhost:8080/"
        },
        "id": "cwqdviXgvIPc",
        "outputId": "b1af4844-dfc3-44d9-9824-3d8a92634014"
      },
      "execution_count": null,
      "outputs": [
        {
          "output_type": "stream",
          "name": "stdout",
          "text": [
            "string is a palindrome\n"
          ]
        }
      ]
    },
    {
      "cell_type": "code",
      "source": [],
      "metadata": {
        "id": "nHO3fVwAwGSe"
      },
      "execution_count": null,
      "outputs": []
    },
    {
      "cell_type": "markdown",
      "source": [
        "getting the misssing number 1 to 25\n"
      ],
      "metadata": {
        "id": "J-YuVK7HwHOH"
      }
    },
    {
      "cell_type": "code",
      "source": [
        "lst = []\n",
        "for i in range(0, 11):\n",
        "    lst.append(i)\n",
        "\n",
        "print(lst)\n",
        "\n",
        "lst1 = []\n",
        "for i in range(0, 26):\n",
        "    if i in lst:\n",
        "        continue\n",
        "    else:\n",
        "        lst1.append(i)\n",
        "\n",
        "print(lst1)\n",
        "'''here i used a diffrent appraoach from the given pdf and lst1 produces all the numbers that are not present in the lst1"
      ],
      "metadata": {
        "colab": {
          "base_uri": "https://localhost:8080/"
        },
        "id": "CTPLtjMpwGZw",
        "outputId": "33c7f24f-8520-414a-a4b7-cfb9588b82ea"
      },
      "execution_count": null,
      "outputs": [
        {
          "output_type": "stream",
          "name": "stdout",
          "text": [
            "[0, 1, 2, 3, 4, 5, 6, 7, 8, 9, 10]\n",
            "[11, 12, 13, 14, 15, 16, 17, 18, 19, 20, 21, 22, 23, 24, 25]\n"
          ]
        }
      ]
    },
    {
      "cell_type": "markdown",
      "source": [
        "reversing a string using recursion\n"
      ],
      "metadata": {
        "id": "i_l68XVXKk70"
      }
    },
    {
      "cell_type": "code",
      "source": [
        "def reverse(string):\n",
        "  if len(string)==1:\n",
        "    return string\n",
        "  else:\n",
        "    return reverse(string[1:])+string[0]\n",
        "reverse(\"hello\")     ''' cheating kind of '''"
      ],
      "metadata": {
        "colab": {
          "base_uri": "https://localhost:8080/",
          "height": 35
        },
        "id": "nKDbKC7PKo_q",
        "outputId": "3155c075-43df-4028-91cf-9987e67a2bd1"
      },
      "execution_count": null,
      "outputs": [
        {
          "output_type": "execute_result",
          "data": {
            "text/plain": [
              "'olleh'"
            ],
            "application/vnd.google.colaboratory.intrinsic+json": {
              "type": "string"
            }
          },
          "metadata": {},
          "execution_count": 65
        }
      ]
    },
    {
      "cell_type": "markdown",
      "source": [],
      "metadata": {
        "id": "U8DiQGtEXEjN"
      }
    },
    {
      "cell_type": "code",
      "source": [],
      "metadata": {
        "id": "c-HeKL-jORmH"
      },
      "execution_count": null,
      "outputs": []
    },
    {
      "cell_type": "markdown",
      "source": [
        "common element in the two lists"
      ],
      "metadata": {
        "id": "RXICqy7ROSzZ"
      }
    },
    {
      "cell_type": "code",
      "source": [
        "list=[1,3,4,5,6]\n",
        "list2=[4,57,98]\n",
        "cmn=[]\n",
        "for i in range(len(list)):\n",
        "  for j in range(len(list2)):\n",
        "    if list[i] == list2[j]:\n",
        "      cmn.append(list[i])\n",
        "print(cmn)\n"
      ],
      "metadata": {
        "colab": {
          "base_uri": "https://localhost:8080/"
        },
        "id": "faHIzy_nWuk7",
        "outputId": "58b2a2d4-e6e7-4731-8a2a-6269528b3f7c"
      },
      "execution_count": null,
      "outputs": [
        {
          "output_type": "stream",
          "name": "stdout",
          "text": [
            "[4]\n"
          ]
        }
      ]
    },
    {
      "cell_type": "markdown",
      "source": [
        "sorting with any inbuilt function\n"
      ],
      "metadata": {
        "id": "dAFROvEfXkFw"
      }
    },
    {
      "cell_type": "code",
      "source": [
        "lst = [3, 6, 2, 5, 4]\n",
        "sor = []\n",
        "\n",
        "while lst:\n",
        "    min_val = lst[0]\n",
        "    min_index = 0\n",
        "\n",
        "\n",
        "    for i in range(1, len(lst)):\n",
        "        if lst[i] < min_val:\n",
        "            min_val = lst[i]\n",
        "            min_index = i\n",
        "\n",
        "    sor.append(min_val)\n",
        "    lst.pop(min_index)\n",
        "\n",
        "print(sor)\n",
        "\n"
      ],
      "metadata": {
        "colab": {
          "base_uri": "https://localhost:8080/"
        },
        "id": "VbTFJuWBXuHn",
        "outputId": "deb95f02-eee4-46ef-9e1a-21508dfb25a6"
      },
      "execution_count": null,
      "outputs": [
        {
          "output_type": "stream",
          "name": "stdout",
          "text": [
            "[2, 3, 4, 5, 6]\n"
          ]
        }
      ]
    },
    {
      "cell_type": "markdown",
      "source": [
        "s1 = \"silent\"\n",
        "s2 = \"listens\"\n",
        "write a functions to return the two stings are anaagrams or not.\n",
        "\n",
        "l=[2,3,5,7,8,3,2,4,14,6,2,12,14]\n",
        "1) Write a python program to give the greatest element among the list.\n",
        "2) Write a program to return a dictonary in which the key will be the number and the value will be its occurence in the list.\n",
        "\n",
        "l=[2,3,5,7,8,3,2,4,14,6,2,12,14]\n",
        " print all even numbers using list comprehension\n"
      ],
      "metadata": {
        "id": "M2hA1fFj18Py"
      }
    },
    {
      "cell_type": "code",
      "source": [],
      "metadata": {
        "id": "oy_uqB6r6oIi"
      },
      "execution_count": null,
      "outputs": []
    },
    {
      "cell_type": "code",
      "source": [],
      "metadata": {
        "id": "3DiWVWvn1-WZ"
      },
      "execution_count": null,
      "outputs": []
    },
    {
      "cell_type": "markdown",
      "source": [
        "greates in integer\n"
      ],
      "metadata": {
        "id": "Lyu2CW3Y2BNe"
      }
    },
    {
      "cell_type": "code",
      "source": [
        "l=[2,3,5,7,8,3,2,4,14,6,2,12,14]\n",
        "max=l[0]\n",
        "for i in range(len(l)):\n",
        "  if l[i]>max:\n",
        "     max=l[i]\n",
        "print(max)"
      ],
      "metadata": {
        "colab": {
          "base_uri": "https://localhost:8080/"
        },
        "id": "lnaH5h4M2E1Q",
        "outputId": "bb928780-9198-4d4d-c18b-8e93b64be20f"
      },
      "execution_count": null,
      "outputs": [
        {
          "output_type": "stream",
          "name": "stdout",
          "text": [
            "14\n"
          ]
        }
      ]
    },
    {
      "cell_type": "markdown",
      "source": [
        "Write a program to return a dictonary in which the key will be the number and the value will be its occurence in the list.\n"
      ],
      "metadata": {
        "id": "zPEhAe862viE"
      }
    },
    {
      "cell_type": "code",
      "source": [
        "l=[2,3,5,7,8,3,2,4,14,6,2,12,14]\n",
        "def pep(l):\n",
        "  m={}\n",
        "  for i in range(len(l)):\n",
        "    m[l[i]]= i\n",
        "  print(m)\n",
        "\n",
        "\n",
        "\n",
        "print(pep(l))\n",
        "\n",
        "# i donot have idea how it is handling the duplicates in  the list'''"
      ],
      "metadata": {
        "colab": {
          "base_uri": "https://localhost:8080/"
        },
        "id": "WY46EE012zX4",
        "outputId": "6991f6e0-b850-4def-e83f-3d8702c2f7b7"
      },
      "execution_count": null,
      "outputs": [
        {
          "output_type": "stream",
          "name": "stdout",
          "text": [
            "{2: 10, 3: 5, 5: 2, 7: 3, 8: 4, 4: 7, 14: 12, 6: 9, 12: 11}\n",
            "None\n"
          ]
        }
      ]
    },
    {
      "cell_type": "markdown",
      "source": [
        "print all even numbers using list comprehension\n"
      ],
      "metadata": {
        "id": "lueqBIvF6mbK"
      }
    },
    {
      "cell_type": "code",
      "source": [
        "l=[2,3,5,7,8,3,2,4,14,6,2,12,14]\n",
        "even=[x for x in l if x%2==0]\n",
        "print(even)\n",
        "#not my orginal code i have never read about list comprehension"
      ],
      "metadata": {
        "colab": {
          "base_uri": "https://localhost:8080/"
        },
        "id": "7x3Q7W8U8RS6",
        "outputId": "d109669c-6d34-4270-eb86-65bf6da51c32"
      },
      "execution_count": null,
      "outputs": [
        {
          "output_type": "stream",
          "name": "stdout",
          "text": [
            "[2, 8, 2, 4, 14, 6, 2, 12, 14]\n"
          ]
        }
      ]
    }
  ]
}